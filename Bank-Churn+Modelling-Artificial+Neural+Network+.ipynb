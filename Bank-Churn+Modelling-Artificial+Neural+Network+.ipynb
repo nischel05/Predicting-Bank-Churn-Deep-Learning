{
 "cells": [
  {
   "cell_type": "code",
   "execution_count": 1,
   "metadata": {},
   "outputs": [
    {
     "name": "stderr",
     "output_type": "stream",
     "text": [
      "Using TensorFlow backend.\n"
     ]
    },
    {
     "data": {
      "text/html": [
       "<div>\n",
       "<style>\n",
       "    .dataframe thead tr:only-child th {\n",
       "        text-align: right;\n",
       "    }\n",
       "\n",
       "    .dataframe thead th {\n",
       "        text-align: left;\n",
       "    }\n",
       "\n",
       "    .dataframe tbody tr th {\n",
       "        vertical-align: top;\n",
       "    }\n",
       "</style>\n",
       "<table border=\"1\" class=\"dataframe\">\n",
       "  <thead>\n",
       "    <tr style=\"text-align: right;\">\n",
       "      <th></th>\n",
       "      <th>RowNumber</th>\n",
       "      <th>CustomerId</th>\n",
       "      <th>Surname</th>\n",
       "      <th>CreditScore</th>\n",
       "      <th>Geography</th>\n",
       "      <th>Gender</th>\n",
       "      <th>Age</th>\n",
       "      <th>Tenure</th>\n",
       "      <th>Balance</th>\n",
       "      <th>NumOfProducts</th>\n",
       "      <th>HasCrCard</th>\n",
       "      <th>IsActiveMember</th>\n",
       "      <th>EstimatedSalary</th>\n",
       "      <th>Exited</th>\n",
       "    </tr>\n",
       "  </thead>\n",
       "  <tbody>\n",
       "    <tr>\n",
       "      <th>0</th>\n",
       "      <td>1</td>\n",
       "      <td>15634602</td>\n",
       "      <td>Hargrave</td>\n",
       "      <td>619</td>\n",
       "      <td>France</td>\n",
       "      <td>Female</td>\n",
       "      <td>42</td>\n",
       "      <td>2</td>\n",
       "      <td>0.00</td>\n",
       "      <td>1</td>\n",
       "      <td>1</td>\n",
       "      <td>1</td>\n",
       "      <td>101348.88</td>\n",
       "      <td>1</td>\n",
       "    </tr>\n",
       "    <tr>\n",
       "      <th>1</th>\n",
       "      <td>2</td>\n",
       "      <td>15647311</td>\n",
       "      <td>Hill</td>\n",
       "      <td>608</td>\n",
       "      <td>Spain</td>\n",
       "      <td>Female</td>\n",
       "      <td>41</td>\n",
       "      <td>1</td>\n",
       "      <td>83807.86</td>\n",
       "      <td>1</td>\n",
       "      <td>0</td>\n",
       "      <td>1</td>\n",
       "      <td>112542.58</td>\n",
       "      <td>0</td>\n",
       "    </tr>\n",
       "    <tr>\n",
       "      <th>2</th>\n",
       "      <td>3</td>\n",
       "      <td>15619304</td>\n",
       "      <td>Onio</td>\n",
       "      <td>502</td>\n",
       "      <td>France</td>\n",
       "      <td>Female</td>\n",
       "      <td>42</td>\n",
       "      <td>8</td>\n",
       "      <td>159660.80</td>\n",
       "      <td>3</td>\n",
       "      <td>1</td>\n",
       "      <td>0</td>\n",
       "      <td>113931.57</td>\n",
       "      <td>1</td>\n",
       "    </tr>\n",
       "    <tr>\n",
       "      <th>3</th>\n",
       "      <td>4</td>\n",
       "      <td>15701354</td>\n",
       "      <td>Boni</td>\n",
       "      <td>699</td>\n",
       "      <td>France</td>\n",
       "      <td>Female</td>\n",
       "      <td>39</td>\n",
       "      <td>1</td>\n",
       "      <td>0.00</td>\n",
       "      <td>2</td>\n",
       "      <td>0</td>\n",
       "      <td>0</td>\n",
       "      <td>93826.63</td>\n",
       "      <td>0</td>\n",
       "    </tr>\n",
       "    <tr>\n",
       "      <th>4</th>\n",
       "      <td>5</td>\n",
       "      <td>15737888</td>\n",
       "      <td>Mitchell</td>\n",
       "      <td>850</td>\n",
       "      <td>Spain</td>\n",
       "      <td>Female</td>\n",
       "      <td>43</td>\n",
       "      <td>2</td>\n",
       "      <td>125510.82</td>\n",
       "      <td>1</td>\n",
       "      <td>1</td>\n",
       "      <td>1</td>\n",
       "      <td>79084.10</td>\n",
       "      <td>0</td>\n",
       "    </tr>\n",
       "  </tbody>\n",
       "</table>\n",
       "</div>"
      ],
      "text/plain": [
       "   RowNumber  CustomerId   Surname  CreditScore Geography  Gender  Age  \\\n",
       "0          1    15634602  Hargrave          619    France  Female   42   \n",
       "1          2    15647311      Hill          608     Spain  Female   41   \n",
       "2          3    15619304      Onio          502    France  Female   42   \n",
       "3          4    15701354      Boni          699    France  Female   39   \n",
       "4          5    15737888  Mitchell          850     Spain  Female   43   \n",
       "\n",
       "   Tenure    Balance  NumOfProducts  HasCrCard  IsActiveMember  \\\n",
       "0       2       0.00              1          1               1   \n",
       "1       1   83807.86              1          0               1   \n",
       "2       8  159660.80              3          1               0   \n",
       "3       1       0.00              2          0               0   \n",
       "4       2  125510.82              1          1               1   \n",
       "\n",
       "   EstimatedSalary  Exited  \n",
       "0        101348.88       1  \n",
       "1        112542.58       0  \n",
       "2        113931.57       1  \n",
       "3         93826.63       0  \n",
       "4         79084.10       0  "
      ]
     },
     "execution_count": 1,
     "metadata": {},
     "output_type": "execute_result"
    }
   ],
   "source": [
    "import numpy as np\n",
    "import matplotlib.pyplot as plt\n",
    "import pandas as pd\n",
    "import keras\n",
    "from keras.models import Sequential\n",
    "from keras.layers import Dense\n",
    "\n",
    "# Importing the dataset\n",
    "dataset = pd.read_csv('Churn_Modelling.csv')\n",
    "dataset.head()"
   ]
  },
  {
   "cell_type": "code",
   "execution_count": 2,
   "metadata": {},
   "outputs": [
    {
     "data": {
      "text/plain": [
       "array([619, 'France', 'Female', 42, 2, 0.0, 1, 1, 1, 101348.88], dtype=object)"
      ]
     },
     "execution_count": 2,
     "metadata": {},
     "output_type": "execute_result"
    }
   ],
   "source": [
    "X = dataset.iloc[:, 3:13].values\n",
    "y = dataset.iloc[:, 13].values\n",
    "X[0]"
   ]
  },
  {
   "cell_type": "code",
   "execution_count": 3,
   "metadata": {},
   "outputs": [],
   "source": [
    "from sklearn.preprocessing import LabelEncoder, OneHotEncoder\n",
    "labelencoder_X_Country = LabelEncoder()\n",
    "X[:, 1] = labelencoder_X_Country.fit_transform(X[:, 1])\n",
    "labelencoder_X_Gender = LabelEncoder()\n",
    "X[:, 2] = labelencoder_X_Gender.fit_transform(X[:, 2])\n",
    "onehotencoder = OneHotEncoder(categorical_features = [1])\n",
    "X = onehotencoder.fit_transform(X).toarray()\n",
    "X = X[:, 1:]"
   ]
  },
  {
   "cell_type": "code",
   "execution_count": 4,
   "metadata": {},
   "outputs": [
    {
     "data": {
      "text/plain": [
       "array([  0.00000000e+00,   0.00000000e+00,   6.19000000e+02,\n",
       "         0.00000000e+00,   4.20000000e+01,   2.00000000e+00,\n",
       "         0.00000000e+00,   1.00000000e+00,   1.00000000e+00,\n",
       "         1.00000000e+00,   1.01348880e+05])"
      ]
     },
     "execution_count": 4,
     "metadata": {},
     "output_type": "execute_result"
    }
   ],
   "source": [
    "X[0]"
   ]
  },
  {
   "cell_type": "code",
   "execution_count": 5,
   "metadata": {},
   "outputs": [
    {
     "name": "stderr",
     "output_type": "stream",
     "text": [
      "C:\\anaconda\\lib\\site-packages\\sklearn\\cross_validation.py:44: DeprecationWarning: This module was deprecated in version 0.18 in favor of the model_selection module into which all the refactored classes and functions are moved. Also note that the interface of the new CV iterators are different from that of this module. This module will be removed in 0.20.\n",
      "  \"This module will be removed in 0.20.\", DeprecationWarning)\n"
     ]
    }
   ],
   "source": [
    "# Splitting the dataset into the Training set and Test set\n",
    "from sklearn.cross_validation import train_test_split\n",
    "X_train, X_test, y_train, y_test = train_test_split(X, y, test_size = 0.25, random_state = 0)"
   ]
  },
  {
   "cell_type": "code",
   "execution_count": 6,
   "metadata": {},
   "outputs": [],
   "source": [
    "#Feature Scaling\n",
    "from sklearn.preprocessing import StandardScaler\n",
    "sc_X = StandardScaler()\n",
    "X_train = sc_X.fit_transform(X_train)\n",
    "X_test = sc_X.transform(X_test)"
   ]
  },
  {
   "cell_type": "code",
   "execution_count": 7,
   "metadata": {},
   "outputs": [
    {
     "data": {
      "text/plain": [
       "array([ 1.76021608, -0.57468161, -0.73550706, -1.08726059,  0.01526571,\n",
       "        0.00886037,  0.67316003,  2.53503394, -1.55362351, -1.03446007,\n",
       "       -1.64080994])"
      ]
     },
     "execution_count": 7,
     "metadata": {},
     "output_type": "execute_result"
    }
   ],
   "source": [
    "X_train[0]"
   ]
  },
  {
   "cell_type": "code",
   "execution_count": 8,
   "metadata": {},
   "outputs": [],
   "source": [
    "#Creating the ANN architecture\n",
    "classifier = Sequential()\n",
    "#Adding the input layer and first hidden layer\n",
    "classifier.add(Dense(units = 6, kernel_initializer = 'uniform', activation='relu', input_dim = 11))\n",
    "#Adding the second hidden layer\n",
    "classifier.add(Dense(units = 6, kernel_initializer = 'uniform', activation='relu'))\n",
    "#Adding output layer\n",
    "classifier.add(Dense(units = 1, kernel_initializer = 'uniform', activation='sigmoid'))"
   ]
  },
  {
   "cell_type": "code",
   "execution_count": 9,
   "metadata": {},
   "outputs": [],
   "source": [
    "#Compiling\n",
    "classifier.compile(optimizer = 'adam', loss = 'binary_crossentropy', metrics = ['accuracy'])"
   ]
  },
  {
   "cell_type": "code",
   "execution_count": 10,
   "metadata": {},
   "outputs": [
    {
     "name": "stdout",
     "output_type": "stream",
     "text": [
      "Train on 7500 samples, validate on 2500 samples\n",
      "Epoch 1/150\n",
      "7500/7500 [==============================] - 1s 167us/step - loss: 0.6165 - acc: 0.7963 - val_loss: 0.5440 - val_acc: 0.8168\n",
      "Epoch 2/150\n",
      "7500/7500 [==============================] - 1s 111us/step - loss: 0.4295 - acc: 0.8263 - val_loss: 0.4053 - val_acc: 0.8304\n",
      "Epoch 3/150\n",
      "7500/7500 [==============================] - 1s 107us/step - loss: 0.4067 - acc: 0.8307 - val_loss: 0.3981 - val_acc: 0.8344\n",
      "Epoch 4/150\n",
      "7500/7500 [==============================] - 1s 109us/step - loss: 0.3994 - acc: 0.8317 - val_loss: 0.3927 - val_acc: 0.8316\n",
      "Epoch 5/150\n",
      "7500/7500 [==============================] - 1s 111us/step - loss: 0.3914 - acc: 0.8321 - val_loss: 0.3859 - val_acc: 0.8328\n",
      "Epoch 6/150\n",
      "7500/7500 [==============================] - 1s 105us/step - loss: 0.3836 - acc: 0.8347 - val_loss: 0.3772 - val_acc: 0.8324\n",
      "Epoch 7/150\n",
      "7500/7500 [==============================] - 1s 104us/step - loss: 0.3773 - acc: 0.8347 - val_loss: 0.3727 - val_acc: 0.8440\n",
      "Epoch 8/150\n",
      "7500/7500 [==============================] - 1s 105us/step - loss: 0.3717 - acc: 0.8460 - val_loss: 0.3673 - val_acc: 0.8460\n",
      "Epoch 9/150\n",
      "7500/7500 [==============================] - 1s 108us/step - loss: 0.3671 - acc: 0.8504 - val_loss: 0.3591 - val_acc: 0.8492\n",
      "Epoch 10/150\n",
      "7500/7500 [==============================] - 1s 106us/step - loss: 0.3637 - acc: 0.8496 - val_loss: 0.3553 - val_acc: 0.8504\n",
      "Epoch 11/150\n",
      "7500/7500 [==============================] - 1s 103us/step - loss: 0.3608 - acc: 0.8527 - val_loss: 0.3535 - val_acc: 0.8548\n",
      "Epoch 12/150\n",
      "7500/7500 [==============================] - 1s 105us/step - loss: 0.3576 - acc: 0.8560 - val_loss: 0.3512 - val_acc: 0.8556\n",
      "Epoch 13/150\n",
      "7500/7500 [==============================] - 1s 110us/step - loss: 0.3558 - acc: 0.8563 - val_loss: 0.3521 - val_acc: 0.8520\n",
      "Epoch 14/150\n",
      "7500/7500 [==============================] - 1s 108us/step - loss: 0.3541 - acc: 0.8540 - val_loss: 0.3466 - val_acc: 0.8564\n",
      "Epoch 15/150\n",
      "7500/7500 [==============================] - 1s 109us/step - loss: 0.3524 - acc: 0.8564 - val_loss: 0.3441 - val_acc: 0.8592\n",
      "Epoch 16/150\n",
      "7500/7500 [==============================] - 1s 105us/step - loss: 0.3509 - acc: 0.8572 - val_loss: 0.3453 - val_acc: 0.8556\n",
      "Epoch 17/150\n",
      "7500/7500 [==============================] - 1s 110us/step - loss: 0.3502 - acc: 0.8547 - val_loss: 0.3438 - val_acc: 0.8560\n",
      "Epoch 18/150\n",
      "7500/7500 [==============================] - 1s 110us/step - loss: 0.3485 - acc: 0.8572 - val_loss: 0.3452 - val_acc: 0.8588\n",
      "Epoch 19/150\n",
      "7500/7500 [==============================] - 1s 112us/step - loss: 0.3478 - acc: 0.8581 - val_loss: 0.3409 - val_acc: 0.8564\n",
      "Epoch 20/150\n",
      "7500/7500 [==============================] - 1s 107us/step - loss: 0.3456 - acc: 0.8603 - val_loss: 0.3433 - val_acc: 0.8556\n",
      "Epoch 21/150\n",
      "7500/7500 [==============================] - 1s 105us/step - loss: 0.3451 - acc: 0.8600 - val_loss: 0.3457 - val_acc: 0.8592\n",
      "Epoch 22/150\n",
      "7500/7500 [==============================] - 1s 110us/step - loss: 0.3436 - acc: 0.8599 - val_loss: 0.3437 - val_acc: 0.8588\n",
      "Epoch 23/150\n",
      "7500/7500 [==============================] - 1s 106us/step - loss: 0.3429 - acc: 0.8593 - val_loss: 0.3423 - val_acc: 0.8604\n",
      "Epoch 24/150\n",
      "7500/7500 [==============================] - 1s 109us/step - loss: 0.3432 - acc: 0.8608 - val_loss: 0.3391 - val_acc: 0.8568\n",
      "Epoch 25/150\n",
      "7500/7500 [==============================] - 1s 106us/step - loss: 0.3426 - acc: 0.8603 - val_loss: 0.3492 - val_acc: 0.8516\n",
      "Epoch 26/150\n",
      "7500/7500 [==============================] - 1s 107us/step - loss: 0.3424 - acc: 0.8572 - val_loss: 0.3482 - val_acc: 0.8548\n",
      "Epoch 27/150\n",
      "7500/7500 [==============================] - 1s 106us/step - loss: 0.3418 - acc: 0.8587 - val_loss: 0.3362 - val_acc: 0.8580\n",
      "Epoch 28/150\n",
      "7500/7500 [==============================] - 1s 108us/step - loss: 0.3414 - acc: 0.8589 - val_loss: 0.3428 - val_acc: 0.8604\n",
      "Epoch 29/150\n",
      "7500/7500 [==============================] - 1s 107us/step - loss: 0.3416 - acc: 0.8592 - val_loss: 0.3389 - val_acc: 0.8588\n",
      "Epoch 30/150\n",
      "7500/7500 [==============================] - 1s 114us/step - loss: 0.3403 - acc: 0.8619 - val_loss: 0.3379 - val_acc: 0.8564\n",
      "Epoch 31/150\n",
      "7500/7500 [==============================] - 1s 116us/step - loss: 0.3397 - acc: 0.8609 - val_loss: 0.3383 - val_acc: 0.8576\n",
      "Epoch 32/150\n",
      "7500/7500 [==============================] - 1s 109us/step - loss: 0.3401 - acc: 0.8611 - val_loss: 0.3362 - val_acc: 0.8568\n",
      "Epoch 33/150\n",
      "7500/7500 [==============================] - 1s 109us/step - loss: 0.3402 - acc: 0.8603 - val_loss: 0.3361 - val_acc: 0.8584\n",
      "Epoch 34/150\n",
      "7500/7500 [==============================] - 1s 119us/step - loss: 0.3390 - acc: 0.8617 - val_loss: 0.3403 - val_acc: 0.8592\n",
      "Epoch 35/150\n",
      "7500/7500 [==============================] - 1s 110us/step - loss: 0.3391 - acc: 0.8611 - val_loss: 0.3386 - val_acc: 0.8568\n",
      "Epoch 36/150\n",
      "7500/7500 [==============================] - 1s 111us/step - loss: 0.3392 - acc: 0.8611 - val_loss: 0.3353 - val_acc: 0.8576\n",
      "Epoch 37/150\n",
      "7500/7500 [==============================] - 1s 106us/step - loss: 0.3390 - acc: 0.8616 - val_loss: 0.3406 - val_acc: 0.8552\n",
      "Epoch 38/150\n",
      "7500/7500 [==============================] - 1s 107us/step - loss: 0.3387 - acc: 0.8605 - val_loss: 0.3371 - val_acc: 0.8584\n",
      "Epoch 39/150\n",
      "7500/7500 [==============================] - 1s 107us/step - loss: 0.3380 - acc: 0.8616 - val_loss: 0.3392 - val_acc: 0.8596\n",
      "Epoch 40/150\n",
      "7500/7500 [==============================] - 1s 108us/step - loss: 0.3381 - acc: 0.8612 - val_loss: 0.3332 - val_acc: 0.8604\n",
      "Epoch 41/150\n",
      "7500/7500 [==============================] - 1s 111us/step - loss: 0.3380 - acc: 0.8617 - val_loss: 0.3365 - val_acc: 0.8616\n",
      "Epoch 42/150\n",
      "7500/7500 [==============================] - 1s 116us/step - loss: 0.3375 - acc: 0.8625 - val_loss: 0.3380 - val_acc: 0.8628\n",
      "Epoch 43/150\n",
      "7500/7500 [==============================] - 1s 109us/step - loss: 0.3380 - acc: 0.8633 - val_loss: 0.3387 - val_acc: 0.8620\n",
      "Epoch 44/150\n",
      "7500/7500 [==============================] - 1s 106us/step - loss: 0.3380 - acc: 0.8600 - val_loss: 0.3339 - val_acc: 0.8576\n",
      "Epoch 45/150\n",
      "7500/7500 [==============================] - 1s 105us/step - loss: 0.3364 - acc: 0.8583 - val_loss: 0.3408 - val_acc: 0.8568\n",
      "Epoch 46/150\n",
      "7500/7500 [==============================] - 1s 107us/step - loss: 0.3382 - acc: 0.8591 - val_loss: 0.3384 - val_acc: 0.8584\n",
      "Epoch 47/150\n",
      "7500/7500 [==============================] - 1s 107us/step - loss: 0.3369 - acc: 0.8607 - val_loss: 0.3345 - val_acc: 0.8596\n",
      "Epoch 48/150\n",
      "7500/7500 [==============================] - 1s 107us/step - loss: 0.3366 - acc: 0.8623 - val_loss: 0.3374 - val_acc: 0.8604\n",
      "Epoch 49/150\n",
      "7500/7500 [==============================] - 1s 104us/step - loss: 0.3360 - acc: 0.8611 - val_loss: 0.3425 - val_acc: 0.8552\n",
      "Epoch 50/150\n",
      "7500/7500 [==============================] - 1s 108us/step - loss: 0.3365 - acc: 0.8641 - val_loss: 0.3352 - val_acc: 0.8572\n",
      "Epoch 51/150\n",
      "7500/7500 [==============================] - 1s 112us/step - loss: 0.3359 - acc: 0.8608 - val_loss: 0.3401 - val_acc: 0.8568\n",
      "Epoch 52/150\n",
      "7500/7500 [==============================] - 1s 113us/step - loss: 0.3352 - acc: 0.8616 - val_loss: 0.3334 - val_acc: 0.8612\n",
      "Epoch 53/150\n",
      "7500/7500 [==============================] - 1s 106us/step - loss: 0.3361 - acc: 0.8615 - val_loss: 0.3361 - val_acc: 0.8580\n",
      "Epoch 54/150\n",
      "7500/7500 [==============================] - 1s 107us/step - loss: 0.3355 - acc: 0.8579 - val_loss: 0.3388 - val_acc: 0.8596\n",
      "Epoch 55/150\n",
      "7500/7500 [==============================] - 1s 107us/step - loss: 0.3351 - acc: 0.8623 - val_loss: 0.3350 - val_acc: 0.8604\n",
      "Epoch 56/150\n",
      "7500/7500 [==============================] - 1s 106us/step - loss: 0.3358 - acc: 0.8609 - val_loss: 0.3397 - val_acc: 0.8592\n",
      "Epoch 57/150\n",
      "7500/7500 [==============================] - 1s 105us/step - loss: 0.3349 - acc: 0.8611 - val_loss: 0.3341 - val_acc: 0.8588\n",
      "Epoch 58/150\n",
      "7500/7500 [==============================] - 1s 108us/step - loss: 0.3350 - acc: 0.8625 - val_loss: 0.3348 - val_acc: 0.8604\n",
      "Epoch 59/150\n",
      "7500/7500 [==============================] - 1s 106us/step - loss: 0.3348 - acc: 0.8633 - val_loss: 0.3372 - val_acc: 0.8588\n",
      "Epoch 60/150\n"
     ]
    },
    {
     "name": "stdout",
     "output_type": "stream",
     "text": [
      "7500/7500 [==============================] - 1s 102us/step - loss: 0.3358 - acc: 0.8612 - val_loss: 0.3360 - val_acc: 0.8572\n",
      "Epoch 61/150\n",
      "7500/7500 [==============================] - 1s 103us/step - loss: 0.3346 - acc: 0.8621 - val_loss: 0.3340 - val_acc: 0.8560\n",
      "Epoch 62/150\n",
      "7500/7500 [==============================] - 1s 120us/step - loss: 0.3351 - acc: 0.8615 - val_loss: 0.3310 - val_acc: 0.8624\n",
      "Epoch 63/150\n",
      "7500/7500 [==============================] - 1s 110us/step - loss: 0.3355 - acc: 0.8591 - val_loss: 0.3364 - val_acc: 0.8624\n",
      "Epoch 64/150\n",
      "7500/7500 [==============================] - 1s 105us/step - loss: 0.3351 - acc: 0.8616 - val_loss: 0.3360 - val_acc: 0.8632\n",
      "Epoch 65/150\n",
      "7500/7500 [==============================] - 1s 102us/step - loss: 0.3344 - acc: 0.8625 - val_loss: 0.3323 - val_acc: 0.8628\n",
      "Epoch 66/150\n",
      "7500/7500 [==============================] - 1s 104us/step - loss: 0.3341 - acc: 0.8652 - val_loss: 0.3337 - val_acc: 0.8616\n",
      "Epoch 67/150\n",
      "7500/7500 [==============================] - 1s 105us/step - loss: 0.3341 - acc: 0.8607 - val_loss: 0.3368 - val_acc: 0.8584\n",
      "Epoch 68/150\n",
      "7500/7500 [==============================] - 1s 107us/step - loss: 0.3344 - acc: 0.8632 - val_loss: 0.3305 - val_acc: 0.8628\n",
      "Epoch 69/150\n",
      "7500/7500 [==============================] - 1s 121us/step - loss: 0.3332 - acc: 0.8611 - val_loss: 0.3323 - val_acc: 0.8596\n",
      "Epoch 70/150\n",
      "7500/7500 [==============================] - 1s 104us/step - loss: 0.3344 - acc: 0.8640 - val_loss: 0.3319 - val_acc: 0.8616\n",
      "Epoch 71/150\n",
      "7500/7500 [==============================] - 1s 107us/step - loss: 0.3349 - acc: 0.8612 - val_loss: 0.3316 - val_acc: 0.8624\n",
      "Epoch 72/150\n",
      "7500/7500 [==============================] - 1s 110us/step - loss: 0.3331 - acc: 0.8627 - val_loss: 0.3350 - val_acc: 0.8632\n",
      "Epoch 73/150\n",
      "7500/7500 [==============================] - 1s 107us/step - loss: 0.3329 - acc: 0.8612 - val_loss: 0.3339 - val_acc: 0.8620\n",
      "Epoch 74/150\n",
      "7500/7500 [==============================] - 1s 106us/step - loss: 0.3340 - acc: 0.8617 - val_loss: 0.3355 - val_acc: 0.8556\n",
      "Epoch 75/150\n",
      "7500/7500 [==============================] - 1s 104us/step - loss: 0.3317 - acc: 0.8640 - val_loss: 0.3303 - val_acc: 0.8644\n",
      "Epoch 76/150\n",
      "7500/7500 [==============================] - 1s 107us/step - loss: 0.3335 - acc: 0.8608 - val_loss: 0.3364 - val_acc: 0.8604\n",
      "Epoch 77/150\n",
      "7500/7500 [==============================] - 1s 106us/step - loss: 0.3332 - acc: 0.8631 - val_loss: 0.3341 - val_acc: 0.8628\n",
      "Epoch 78/150\n",
      "7500/7500 [==============================] - 1s 108us/step - loss: 0.3333 - acc: 0.8615 - val_loss: 0.3325 - val_acc: 0.8600\n",
      "Epoch 79/150\n",
      "7500/7500 [==============================] - 1s 111us/step - loss: 0.3329 - acc: 0.8607 - val_loss: 0.3345 - val_acc: 0.8632\n",
      "Epoch 80/150\n",
      "7500/7500 [==============================] - 1s 106us/step - loss: 0.3334 - acc: 0.8621 - val_loss: 0.3324 - val_acc: 0.8652\n",
      "Epoch 81/150\n",
      "7500/7500 [==============================] - 1s 116us/step - loss: 0.3327 - acc: 0.8644 - val_loss: 0.3344 - val_acc: 0.8612\n",
      "Epoch 82/150\n",
      "7500/7500 [==============================] - 1s 105us/step - loss: 0.3331 - acc: 0.8641 - val_loss: 0.3339 - val_acc: 0.8596\n",
      "Epoch 83/150\n",
      "7500/7500 [==============================] - 1s 106us/step - loss: 0.3333 - acc: 0.8627 - val_loss: 0.3352 - val_acc: 0.8572\n",
      "Epoch 84/150\n",
      "7500/7500 [==============================] - 1s 106us/step - loss: 0.3332 - acc: 0.8641 - val_loss: 0.3424 - val_acc: 0.8544\n",
      "Epoch 85/150\n",
      "7500/7500 [==============================] - 1s 106us/step - loss: 0.3334 - acc: 0.8620 - val_loss: 0.3333 - val_acc: 0.8616\n",
      "Epoch 86/150\n",
      "7500/7500 [==============================] - 1s 106us/step - loss: 0.3334 - acc: 0.8627 - val_loss: 0.3350 - val_acc: 0.8576\n",
      "Epoch 87/150\n",
      "7500/7500 [==============================] - 1s 111us/step - loss: 0.3324 - acc: 0.8639 - val_loss: 0.3337 - val_acc: 0.8628\n",
      "Epoch 88/150\n",
      "7500/7500 [==============================] - 1s 107us/step - loss: 0.3325 - acc: 0.8635 - val_loss: 0.3343 - val_acc: 0.8580\n",
      "Epoch 89/150\n",
      "7500/7500 [==============================] - 1s 108us/step - loss: 0.3332 - acc: 0.8611 - val_loss: 0.3390 - val_acc: 0.8532\n",
      "Epoch 90/150\n",
      "7500/7500 [==============================] - 1s 103us/step - loss: 0.3329 - acc: 0.8623 - val_loss: 0.3533 - val_acc: 0.8468\n",
      "Epoch 91/150\n",
      "7500/7500 [==============================] - 1s 109us/step - loss: 0.3335 - acc: 0.8624 - val_loss: 0.3302 - val_acc: 0.8620\n",
      "Epoch 92/150\n",
      "7500/7500 [==============================] - 1s 109us/step - loss: 0.3322 - acc: 0.8645 - val_loss: 0.3326 - val_acc: 0.8612\n",
      "Epoch 93/150\n",
      "7500/7500 [==============================] - 1s 109us/step - loss: 0.3330 - acc: 0.8641 - val_loss: 0.3326 - val_acc: 0.8580\n",
      "Epoch 94/150\n",
      "7500/7500 [==============================] - 1s 105us/step - loss: 0.3323 - acc: 0.8633 - val_loss: 0.3347 - val_acc: 0.8600\n",
      "Epoch 95/150\n",
      "7500/7500 [==============================] - 1s 103us/step - loss: 0.3333 - acc: 0.8625 - val_loss: 0.3360 - val_acc: 0.8600\n",
      "Epoch 96/150\n",
      "7500/7500 [==============================] - 1s 104us/step - loss: 0.3319 - acc: 0.8613 - val_loss: 0.3364 - val_acc: 0.8576\n",
      "Epoch 97/150\n",
      "7500/7500 [==============================] - 1s 107us/step - loss: 0.3329 - acc: 0.8617 - val_loss: 0.3301 - val_acc: 0.8620\n",
      "Epoch 98/150\n",
      "7500/7500 [==============================] - 1s 108us/step - loss: 0.3320 - acc: 0.8639 - val_loss: 0.3357 - val_acc: 0.8584\n",
      "Epoch 99/150\n",
      "7500/7500 [==============================] - 1s 111us/step - loss: 0.3321 - acc: 0.8616 - val_loss: 0.3334 - val_acc: 0.8640\n",
      "Epoch 100/150\n",
      "7500/7500 [==============================] - 1s 111us/step - loss: 0.3319 - acc: 0.8613 - val_loss: 0.3342 - val_acc: 0.8644\n",
      "Epoch 101/150\n",
      "7500/7500 [==============================] - 1s 105us/step - loss: 0.3330 - acc: 0.8639 - val_loss: 0.3326 - val_acc: 0.8628\n",
      "Epoch 102/150\n",
      "7500/7500 [==============================] - 1s 105us/step - loss: 0.3323 - acc: 0.8633 - val_loss: 0.3378 - val_acc: 0.8568\n",
      "Epoch 103/150\n",
      "7500/7500 [==============================] - 1s 107us/step - loss: 0.3320 - acc: 0.8609 - val_loss: 0.3347 - val_acc: 0.8612\n",
      "Epoch 104/150\n",
      "7500/7500 [==============================] - 1s 110us/step - loss: 0.3323 - acc: 0.8627 - val_loss: 0.3354 - val_acc: 0.8580\n",
      "Epoch 105/150\n",
      "7500/7500 [==============================] - 1s 105us/step - loss: 0.3321 - acc: 0.8628 - val_loss: 0.3373 - val_acc: 0.8568\n",
      "Epoch 106/150\n",
      "7500/7500 [==============================] - 1s 108us/step - loss: 0.3318 - acc: 0.8648 - val_loss: 0.3365 - val_acc: 0.8592\n",
      "Epoch 107/150\n",
      "7500/7500 [==============================] - 1s 104us/step - loss: 0.3321 - acc: 0.8629 - val_loss: 0.3413 - val_acc: 0.8536\n",
      "Epoch 108/150\n",
      "7500/7500 [==============================] - 1s 111us/step - loss: 0.3320 - acc: 0.8633 - val_loss: 0.3364 - val_acc: 0.8576\n",
      "Epoch 109/150\n",
      "7500/7500 [==============================] - 1s 106us/step - loss: 0.3320 - acc: 0.8632 - val_loss: 0.3353 - val_acc: 0.8604\n",
      "Epoch 110/150\n",
      "7500/7500 [==============================] - 1s 105us/step - loss: 0.3313 - acc: 0.8639 - val_loss: 0.3331 - val_acc: 0.8628\n",
      "Epoch 111/150\n",
      "7500/7500 [==============================] - 1s 104us/step - loss: 0.3311 - acc: 0.8625 - val_loss: 0.3360 - val_acc: 0.8608\n",
      "Epoch 112/150\n",
      "7500/7500 [==============================] - 1s 117us/step - loss: 0.3316 - acc: 0.8620 - val_loss: 0.3341 - val_acc: 0.8580\n",
      "Epoch 113/150\n",
      "7500/7500 [==============================] - 1s 110us/step - loss: 0.3316 - acc: 0.8635 - val_loss: 0.3352 - val_acc: 0.8588\n",
      "Epoch 114/150\n",
      "7500/7500 [==============================] - 1s 110us/step - loss: 0.3320 - acc: 0.8647 - val_loss: 0.3354 - val_acc: 0.8596\n",
      "Epoch 115/150\n",
      "7500/7500 [==============================] - 1s 113us/step - loss: 0.3328 - acc: 0.8628 - val_loss: 0.3341 - val_acc: 0.8624\n",
      "Epoch 116/150\n",
      "7500/7500 [==============================] - 1s 108us/step - loss: 0.3314 - acc: 0.8628 - val_loss: 0.3328 - val_acc: 0.8620\n",
      "Epoch 117/150\n",
      "7500/7500 [==============================] - 1s 110us/step - loss: 0.3307 - acc: 0.8625 - val_loss: 0.3465 - val_acc: 0.8528\n",
      "Epoch 118/150\n",
      "7500/7500 [==============================] - 1s 106us/step - loss: 0.3316 - acc: 0.8625 - val_loss: 0.3396 - val_acc: 0.8572\n",
      "Epoch 119/150\n"
     ]
    },
    {
     "name": "stdout",
     "output_type": "stream",
     "text": [
      "7500/7500 [==============================] - 1s 113us/step - loss: 0.3314 - acc: 0.8652 - val_loss: 0.3397 - val_acc: 0.8536\n",
      "Epoch 120/150\n",
      "7500/7500 [==============================] - 1s 112us/step - loss: 0.3319 - acc: 0.8637 - val_loss: 0.3350 - val_acc: 0.8572\n",
      "Epoch 121/150\n",
      "7500/7500 [==============================] - 1s 115us/step - loss: 0.3318 - acc: 0.8620 - val_loss: 0.3399 - val_acc: 0.8504\n",
      "Epoch 122/150\n",
      "7500/7500 [==============================] - 1s 101us/step - loss: 0.3321 - acc: 0.8625 - val_loss: 0.3331 - val_acc: 0.8612\n",
      "Epoch 123/150\n",
      "7500/7500 [==============================] - 1s 103us/step - loss: 0.3318 - acc: 0.8657 - val_loss: 0.3343 - val_acc: 0.8580\n",
      "Epoch 124/150\n",
      "7500/7500 [==============================] - 1s 103us/step - loss: 0.3318 - acc: 0.8629 - val_loss: 0.3349 - val_acc: 0.8604\n",
      "Epoch 125/150\n",
      "7500/7500 [==============================] - 1s 103us/step - loss: 0.3310 - acc: 0.8628 - val_loss: 0.3296 - val_acc: 0.8632\n",
      "Epoch 126/150\n",
      "7500/7500 [==============================] - 1s 102us/step - loss: 0.3316 - acc: 0.8633 - val_loss: 0.3409 - val_acc: 0.8572\n",
      "Epoch 127/150\n",
      "7500/7500 [==============================] - 1s 103us/step - loss: 0.3304 - acc: 0.8637 - val_loss: 0.3381 - val_acc: 0.8548\n",
      "Epoch 128/150\n",
      "7500/7500 [==============================] - 1s 104us/step - loss: 0.3311 - acc: 0.8633 - val_loss: 0.3298 - val_acc: 0.8620\n",
      "Epoch 129/150\n",
      "7500/7500 [==============================] - 1s 105us/step - loss: 0.3320 - acc: 0.8637 - val_loss: 0.3354 - val_acc: 0.8556\n",
      "Epoch 130/150\n",
      "7500/7500 [==============================] - 1s 107us/step - loss: 0.3309 - acc: 0.8643 - val_loss: 0.3339 - val_acc: 0.8584\n",
      "Epoch 131/150\n",
      "7500/7500 [==============================] - 1s 109us/step - loss: 0.3314 - acc: 0.8601 - val_loss: 0.3316 - val_acc: 0.8616\n",
      "Epoch 132/150\n",
      "7500/7500 [==============================] - 1s 108us/step - loss: 0.3321 - acc: 0.8648 - val_loss: 0.3307 - val_acc: 0.8624\n",
      "Epoch 133/150\n",
      "7500/7500 [==============================] - 1s 105us/step - loss: 0.3308 - acc: 0.8641 - val_loss: 0.3320 - val_acc: 0.8612\n",
      "Epoch 134/150\n",
      "7500/7500 [==============================] - 1s 107us/step - loss: 0.3315 - acc: 0.8651 - val_loss: 0.3377 - val_acc: 0.8556\n",
      "Epoch 135/150\n",
      "7500/7500 [==============================] - 1s 109us/step - loss: 0.3310 - acc: 0.8652 - val_loss: 0.3340 - val_acc: 0.8616\n",
      "Epoch 136/150\n",
      "7500/7500 [==============================] - 1s 108us/step - loss: 0.3318 - acc: 0.8648 - val_loss: 0.3336 - val_acc: 0.8600\n",
      "Epoch 137/150\n",
      "7500/7500 [==============================] - 1s 107us/step - loss: 0.3322 - acc: 0.8631 - val_loss: 0.3322 - val_acc: 0.8620\n",
      "Epoch 138/150\n",
      "7500/7500 [==============================] - 1s 109us/step - loss: 0.3312 - acc: 0.8648 - val_loss: 0.3338 - val_acc: 0.8604\n",
      "Epoch 139/150\n",
      "7500/7500 [==============================] - 1s 108us/step - loss: 0.3315 - acc: 0.8620 - val_loss: 0.3332 - val_acc: 0.8588\n",
      "Epoch 140/150\n",
      "7500/7500 [==============================] - 1s 106us/step - loss: 0.3310 - acc: 0.8624 - val_loss: 0.3316 - val_acc: 0.8616\n",
      "Epoch 141/150\n",
      "7500/7500 [==============================] - 1s 104us/step - loss: 0.3313 - acc: 0.8625 - val_loss: 0.3370 - val_acc: 0.8584\n",
      "Epoch 142/150\n",
      "7500/7500 [==============================] - 1s 104us/step - loss: 0.3314 - acc: 0.8651 - val_loss: 0.3346 - val_acc: 0.8576\n",
      "Epoch 143/150\n",
      "7500/7500 [==============================] - 1s 113us/step - loss: 0.3303 - acc: 0.8635 - val_loss: 0.3439 - val_acc: 0.8520\n",
      "Epoch 144/150\n",
      "7500/7500 [==============================] - 1s 104us/step - loss: 0.3308 - acc: 0.8621 - val_loss: 0.3361 - val_acc: 0.8588\n",
      "Epoch 145/150\n",
      "7500/7500 [==============================] - 1s 104us/step - loss: 0.3305 - acc: 0.8653 - val_loss: 0.3366 - val_acc: 0.8628\n",
      "Epoch 146/150\n",
      "7500/7500 [==============================] - 1s 106us/step - loss: 0.3310 - acc: 0.8647 - val_loss: 0.3346 - val_acc: 0.8576\n",
      "Epoch 147/150\n",
      "7500/7500 [==============================] - 1s 106us/step - loss: 0.3310 - acc: 0.8611 - val_loss: 0.3327 - val_acc: 0.8612\n",
      "Epoch 148/150\n",
      "7500/7500 [==============================] - 1s 106us/step - loss: 0.3311 - acc: 0.8643 - val_loss: 0.3393 - val_acc: 0.8572\n",
      "Epoch 149/150\n",
      "7500/7500 [==============================] - 1s 105us/step - loss: 0.3319 - acc: 0.8653 - val_loss: 0.3331 - val_acc: 0.8616\n",
      "Epoch 150/150\n",
      "7500/7500 [==============================] - 1s 105us/step - loss: 0.3303 - acc: 0.8625 - val_loss: 0.3337 - val_acc: 0.8576\n"
     ]
    }
   ],
   "source": [
    "#Fitting the training set\n",
    "history = classifier.fit(x=X_train, y=y_train, batch_size=10, epochs=150, validation_data=(X_test, y_test))"
   ]
  },
  {
   "cell_type": "code",
   "execution_count": 14,
   "metadata": {},
   "outputs": [
    {
     "data": {
      "image/png": "[encoded data removed]",
      "text/plain": [
       "<matplotlib.figure.Figure at 0x287c5811cf8>"
      ]
     },
     "metadata": {},
     "output_type": "display_data"
    }
   ],
   "source": [
    "history_dict = history.history\n",
    "history_dict.keys()\n",
    "import matplotlib.pyplot as plt\n",
    "%matplotlib inline\n",
    "acc = history.history['acc']\n",
    "val_acc = history.history['val_acc']\n",
    "loss = history.history['loss']\n",
    "val_loss = history.history['val_loss']\n",
    "\n",
    "epochs = range(1, len(acc) + 1)\n",
    "\n",
    "# \"bo\" is for \"blue dot\"\n",
    "plt.plot(epochs, loss, 'bo', label='Training loss')\n",
    "# b is for \"solid blue line\"\n",
    "plt.plot(epochs, val_loss, 'rd', label='Validation loss')\n",
    "plt.title('Training and validation loss')\n",
    "plt.xlabel('Epochs')\n",
    "plt.ylabel('Loss')\n",
    "plt.legend()\n",
    "\n",
    "plt.show()"
   ]
  },
  {
   "cell_type": "code",
   "execution_count": 15,
   "metadata": {},
   "outputs": [
    {
     "data": {
      "image/png": "[encoded data removed]",
      "text/plain": [
       "<matplotlib.figure.Figure at 0x287c5a2a7f0>"
      ]
     },
     "metadata": {},
     "output_type": "display_data"
    }
   ],
   "source": [
    "plt.clf()   # clear figure\n",
    "acc_values = history_dict['acc']\n",
    "val_acc_values = history_dict['val_acc']\n",
    "\n",
    "plt.plot(epochs, acc, 'bo', label='Training acc')\n",
    "plt.plot(epochs, val_acc, 'b', label='Validation acc')\n",
    "plt.title('Training and validation accuracy')\n",
    "plt.xlabel('Epochs')\n",
    "plt.ylabel('Loss')\n",
    "plt.legend()\n",
    "\n",
    "plt.show()"
   ]
  },
  {
   "cell_type": "code",
   "execution_count": 22,
   "metadata": {},
   "outputs": [
    {
     "data": {
      "text/plain": [
       "array([[False],\n",
       "       [False],\n",
       "       [False],\n",
       "       ..., \n",
       "       [False],\n",
       "       [False],\n",
       "       [False]], dtype=bool)"
      ]
     },
     "execution_count": 22,
     "metadata": {},
     "output_type": "execute_result"
    }
   ],
   "source": [
    "#Predicting:\n",
    "y_pred = classifier.predict_proba(X_test)\n",
    "y_pred_class = (y_pred>0.5)\n",
    "y_pred\n",
    "y_pred_class"
   ]
  },
  {
   "cell_type": "code",
   "execution_count": 28,
   "metadata": {},
   "outputs": [
    {
     "data": {
      "text/plain": [
       "<matplotlib.axes._subplots.AxesSubplot at 0x287c6001a20>"
      ]
     },
     "execution_count": 28,
     "metadata": {},
     "output_type": "execute_result"
    },
    {
     "data": {
      "image/png": "[encoded data removed]",
      "text/plain": [
       "<matplotlib.figure.Figure at 0x287c6016160>"
      ]
     },
     "metadata": {},
     "output_type": "display_data"
    }
   ],
   "source": [
    "#Confusion Matrix\n",
    "import seaborn as sns\n",
    "from sklearn import metrics\n",
    "conf = metrics.confusion_matrix(y_test, y_pred_class)\n",
    "sns.heatmap(conf, annot=True, fmt=\"d\", linewidths=.5)"
   ]
  },
  {
   "cell_type": "code",
   "execution_count": 38,
   "metadata": {},
   "outputs": [
    {
     "data": {
      "text/plain": [
       "<matplotlib.axes._subplots.AxesSubplot at 0x287c7e2c208>"
      ]
     },
     "execution_count": 38,
     "metadata": {},
     "output_type": "execute_result"
    },
    {
     "data": {
      "image/png": "[encoded data removed]",
      "text/plain": [
       "<matplotlib.figure.Figure at 0x287c59f8278>"
      ]
     },
     "metadata": {},
     "output_type": "display_data"
    }
   ],
   "source": [
    "#since we care more about the customer who exit the bank than the ones who stay, we reduce the threshold to 20%\n",
    "y_pred_class = (y_pred>0.2)\n",
    "conf = metrics.confusion_matrix(y_test, y_pred_class)\n",
    "sns.heatmap(conf, annot=True, fmt=\"d\", linewidths=.5)"
   ]
  }
 ],
 "metadata": {
  "kernelspec": {
   "display_name": "Python 3",
   "language": "python",
   "name": "python3"
  },
  "language_info": {
   "codemirror_mode": {
    "name": "ipython",
    "version": 3
   },
   "file_extension": ".py",
   "mimetype": "text/x-python",
   "name": "python",
   "nbconvert_exporter": "python",
   "pygments_lexer": "ipython3",
   "version": "3.6.1"
  }
 },
 "nbformat": 4,
 "nbformat_minor": 2
}
